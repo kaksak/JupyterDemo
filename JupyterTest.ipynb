{
 "cells": [
  {
   "cell_type": "markdown",
   "metadata": {
    "heading_collapsed": true
   },
   "source": [
    "# Juypter Notebook Test Drive"
   ]
  },
  {
   "cell_type": "markdown",
   "metadata": {
    "hidden": true
   },
   "source": [
    "- Jupyter Notebooks is more than just an API\n",
    "- Integrates chunks of programming code with Markdown chunks\n",
    "- Creates a dynamic document that serves as both the documentation and the programming itself.\n",
    "- Comes with ArcGIS Pro\n",
    "- Can be executed within ArcGIS Pro or independently.\n",
    "\n",
    "Not convinced?\n",
    "[This article in the Atlantic by James Somers](https://www.theatlantic.com/science/archive/2018/04/the-scientific-paper-is-obsolete/556676/) may change your mind. "
   ]
  },
  {
   "cell_type": "markdown",
   "metadata": {
    "heading_collapsed": true,
    "hidden": true
   },
   "source": [
    "## Python Chunk"
   ]
  },
  {
   "cell_type": "code",
   "execution_count": 5,
   "metadata": {
    "hidden": true
   },
   "outputs": [
    {
     "name": "stdout",
     "output_type": "stream",
     "text": [
      " RStudio Notebook Test Drive\n"
     ]
    }
   ],
   "source": [
    "# This chunk is a code type. This is for Python code.\n",
    "x = \" RStudio Notebook Test Drive\"\n",
    "print(x)\n",
    "\n",
    "# Poor syntax not flagged:\n",
    "#print x\n"
   ]
  },
  {
   "cell_type": "markdown",
   "metadata": {
    "heading_collapsed": true,
    "hidden": true
   },
   "source": [
    "## Markdown Chunk"
   ]
  },
  {
   "cell_type": "markdown",
   "metadata": {
    "hidden": true
   },
   "source": [
    "This is a chunk of Markdown. This will render with formatting. You can , create tables:\n",
    "\n",
    "Markdown chunks can display a wide variety of document characteristics:\n",
    "   - text formatting like **bold** or *italicized* type\n",
    "   - equations: $\\hat(Y) = \\hat{\\beta}_{0}+\\sum \\limits +{j=1}^{p}X_{j}\\hat{\\beta}_{j}$\n",
    "   - imbedded pictures: ![Jupyter Logo](https://jupyter.org/assets/jupytercon-logo-darkbg.png)\n",
    "   - hyperlinks: [Google Search](https://www.google.com)\n",
    "   - tables\n",
    "   \n",
    "\n",
    "   |header 1 | header 2|\n",
    "   | ------ | ------ |\n",
    "   |data 1.1|data 1.2|\n",
    "   |data 2.1|data 2.2|\n",
    "   |data 3.1|data 3.2| \n",
    "   "
   ]
  },
  {
   "cell_type": "markdown",
   "metadata": {
    "heading_collapsed": true,
    "hidden": true
   },
   "source": [
    "## Inserting code results in a Markdown Chunk"
   ]
  },
  {
   "cell_type": "markdown",
   "metadata": {
    "hidden": true,
    "variables": {
     "x": "<p><strong>NameError</strong>: name &#39;x&#39; is not defined</p>\n"
    }
   },
   "source": [
    "If I want to reference the Python output dynamically so that the **text** updates if I change the Python code.\n",
    "If you have the Python Markdown extension turned on (comes with nbextensions package), you can do this:\n",
    "\n",
    "Here's what x looks like: **{{x}}**"
   ]
  },
  {
   "cell_type": "markdown",
   "metadata": {
    "heading_collapsed": true,
    "hidden": true
   },
   "source": [
    "## PROS"
   ]
  },
  {
   "cell_type": "markdown",
   "metadata": {
    "heading_collapsed": true,
    "hidden": true
   },
   "source": [
    "### Decent API"
   ]
  },
  {
   "cell_type": "markdown",
   "metadata": {
    "hidden": true
   },
   "source": [
    "   - Uses an **IPython** kernel\n",
    "   - **autocomplete/command lookup**\n",
    "   - **syntax checking**\n",
    "   - **smart colors** for types of text \n",
    "   - an intuitive **help** function (just type '?' behind the command)"
   ]
  },
  {
   "cell_type": "markdown",
   "metadata": {
    "heading_collapsed": true,
    "hidden": true
   },
   "source": [
    "### Dynamic Organization"
   ]
  },
  {
   "cell_type": "markdown",
   "metadata": {
    "hidden": true
   },
   "source": [
    "- **Code/Markdown chunking** is an intuitive way to document coding\n",
    "- **Output can be captured** to text, plotted figures, maps and updates with re-runs of new code\n",
    "- Can **link to websites**, or even local documents when referencing sources"
   ]
  },
  {
   "cell_type": "markdown",
   "metadata": {
    "heading_collapsed": true,
    "hidden": true
   },
   "source": [
    "## CON"
   ]
  },
  {
   "cell_type": "markdown",
   "metadata": {
    "heading_collapsed": true,
    "hidden": true
   },
   "source": [
    "### Great Communication Tool "
   ]
  },
  {
   "cell_type": "markdown",
   "metadata": {
    "hidden": true
   },
   "source": [
    "- Export to readable **HTML file** that can render on any browser.\n",
    "- Jupyter .ipynb files can be used in **GitHub** for collaborating on projects or versioning\n",
    "- Plugins for LaTeX PDF language allow export to **PDF documents** with polished layouts"
   ]
  },
  {
   "cell_type": "markdown",
   "metadata": {
    "heading_collapsed": true,
    "hidden": true
   },
   "source": [
    "### Debugging is Simplistic "
   ]
  },
  {
   "cell_type": "markdown",
   "metadata": {
    "hidden": true
   },
   "source": [
    "- Can't execute code line by line\n",
    "- No code stepping\n",
    "- No auto-debugger as you code (red stop signs, orange triangles)"
   ]
  },
  {
   "cell_type": "markdown",
   "metadata": {
    "hidden": true
   },
   "source": [
    "I found [this site by Christoph Reike](https://chrieke.medium.com/jupyter-tips-and-tricks-994fdddb2057) that recommends using the %debug magic command and the pixiedust module to debug inside a Jupyter Notebook."
   ]
  },
  {
   "cell_type": "markdown",
   "metadata": {
    "heading_collapsed": true,
    "hidden": true
   },
   "source": [
    "## References"
   ]
  },
  {
   "cell_type": "markdown",
   "metadata": {
    "hidden": true
   },
   "source": [
    "- [Jupyter Project](https://jupyter.org/)\n",
    "- [Wikipedia page on Project Jupyter](https://en.wikipedia.org/wiki/Project_Jupyter)\n",
    "- [The Scientific Paper is Obsolete by James Somers](https://www.theatlantic.com/science/archive/2018/04/the-scientific-paper-is-obsolete/556676/)\n",
    "- [Jupyter Tips and Tricks by Chrisoph Reike](https://chrieke.medium.com/jupyter-tips-and-tricks-994fdddb2057)\n",
    "- [Five Tips To Get You Started With Jupyter Notebook](https://www.esri.com/arcgis-blog/products/analytics/analytics/five-tips-to-get-you-started-with-jupyter-notebook/)"
   ]
  },
  {
   "cell_type": "code",
   "execution_count": null,
   "metadata": {
    "hidden": true
   },
   "outputs": [],
   "source": []
  }
 ],
 "metadata": {
  "celltoolbar": "Raw Cell Format",
  "kernelspec": {
   "display_name": "ArcGISPro",
   "language": "Python",
   "name": "python3"
  },
  "language_info": {
   "file_extension": ".py",
   "name": "python",
   "version": "3"
  }
 },
 "nbformat": 4,
 "nbformat_minor": 2
}
